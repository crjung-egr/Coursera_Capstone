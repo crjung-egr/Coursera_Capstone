{
 "cells": [
  {
   "cell_type": "markdown",
   "metadata": {},
   "source": [
    "<h1>The Battle of Neighborhoods: Data</h1>"
   ]
  },
  {
   "cell_type": "markdown",
   "metadata": {},
   "source": [
    "<h2>Data Description</h2>"
   ]
  },
  {
   "cell_type": "markdown",
   "metadata": {},
   "source": [
    "The objective of this capstone project is to analyze and recommend where someone would like to visit or possibly even move to. Where someone might stay or live, and what kind of culture they would be surrounded by. The ease of access to various places such as markets, airports, train stations, restaurants, entertainment and other daily needs. So to help someone do so, you will first need to know where they want to go and from there narrow down their search by finding out what's around that area. Once you know where you want to go, using Foursquare API we can search around the area for things to do. "
   ]
  },
  {
   "cell_type": "markdown",
   "metadata": {},
   "source": [
    "<h2>Data Source</h2>"
   ]
  },
  {
   "cell_type": "markdown",
   "metadata": {},
   "source": [
    "Data Link:  https://en.wikipedia.org/wiki/Subprefectures_of_Hokkaido "
   ]
  },
  {
   "cell_type": "markdown",
   "metadata": {},
   "source": [
    "This link contains a list of subprefectures in Hokkaido. Using this data along with data obtained from Foursquare API we will be able to determine venue data about specific locations throughout Hokkaido."
   ]
  },
  {
   "cell_type": "markdown",
   "metadata": {},
   "source": [
    "<h2>Using the Data</h2>"
   ]
  },
  {
   "cell_type": "markdown",
   "metadata": {},
   "source": [
    "To solve the problem, we will need to collect the following data:"
   ]
  },
  {
   "cell_type": "markdown",
   "metadata": {},
   "source": [
    "<ol>\n",
    "    <li>Determine and find the latitude and longitude of the capital city of Hokkaido.</li>\n",
    "    <li>Get information about the subprefectures in Hokkaido.</li>\n",
    "    <li>Select a subprefecture and get the name of its capital.</li>\n",
    "    <li>Collect venue data for the subprefecture.</li>\n",
    "    <li>Find the top 10 venues.</li>\n",
    "    <li>Get the category type of the venues.</li>\n",
    "</ol>"
   ]
  },
  {
   "cell_type": "markdown",
   "metadata": {},
   "source": [
    "After collecting all the nessary data, we can use k-means clustering and various map vizualizations to make it easier to understand where everything is located and how close they are to each other. This way, you can quickly see where you would want to stay if you wanted to be in the center of all the activity or some where a little farther away for some peace and quiet."
   ]
  }
 ],
 "metadata": {
  "kernelspec": {
   "display_name": "Python 3",
   "language": "python",
   "name": "python3"
  },
  "language_info": {
   "codemirror_mode": {
    "name": "ipython",
    "version": 3
   },
   "file_extension": ".py",
   "mimetype": "text/x-python",
   "name": "python",
   "nbconvert_exporter": "python",
   "pygments_lexer": "ipython3",
   "version": "3.8.5"
  }
 },
 "nbformat": 4,
 "nbformat_minor": 4
}
