{
 "cells": [
  {
   "cell_type": "markdown",
   "metadata": {},
   "source": [
    "<h1>The Battle of the Neighborhoods: Introduction/Business Problem</h1>"
   ]
  },
  {
   "cell_type": "markdown",
   "metadata": {},
   "source": [
    "When people usually talk about visiting Japan, you will most likely hear them talking about Tokyo. However, some people who want to visit Japan might want to visit somewhere calmer. Japan is made up of 5 different islands and is divided into 47 prefectures.  From parks to restaurants, there are many exciting places to explore throughout Japan."
   ]
  },
  {
   "cell_type": "markdown",
   "metadata": {},
   "source": [
    "This project will be focusing on the second largest island of Japan that also comprises the largest prefecture of Japan, Hokkaido. If a person wanted to move here, checking out locations is the best way to ensure you will enjoy where you are going. Some things that you might look for when deciding if it is the right place to visit, could be something like, if there are places to visit like museums or parks. Or maybe you have always wanted to visit a hot spring. Checking the location ahead of time will help you determine if the things that interest you are located in this city and if not are easy to travel to from wherever you decide to go."
   ]
  }
 ],
 "metadata": {
  "kernelspec": {
   "display_name": "Python 3",
   "language": "python",
   "name": "python3"
  },
  "language_info": {
   "codemirror_mode": {
    "name": "ipython",
    "version": 3
   },
   "file_extension": ".py",
   "mimetype": "text/x-python",
   "name": "python",
   "nbconvert_exporter": "python",
   "pygments_lexer": "ipython3",
   "version": "3.8.5"
  }
 },
 "nbformat": 4,
 "nbformat_minor": 4
}
